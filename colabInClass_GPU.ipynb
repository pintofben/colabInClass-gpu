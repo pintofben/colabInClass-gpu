{
  "nbformat": 4,
  "nbformat_minor": 0,
  "metadata": {
    "colab": {
      "provenance": [],
      "gpuType": "T4",
      "authorship_tag": "ABX9TyPw9DHXQm4AOvKN6eZ5lFum",
      "include_colab_link": true
    },
    "kernelspec": {
      "name": "python3",
      "display_name": "Python 3"
    },
    "language_info": {
      "name": "python"
    },
    "accelerator": "GPU"
  },
  "cells": [
    {
      "cell_type": "markdown",
      "metadata": {
        "id": "view-in-github",
        "colab_type": "text"
      },
      "source": [
        "<a href=\"https://colab.research.google.com/github/pintofben/colabInClass-gpu/blob/main/colabInClass_GPU.ipynb\" target=\"_parent\"><img src=\"https://colab.research.google.com/assets/colab-badge.svg\" alt=\"Open In Colab\"/></a>"
      ]
    },
    {
      "cell_type": "code",
      "execution_count": 1,
      "metadata": {
        "id": "QWzB6gFbLaji",
        "colab": {
          "base_uri": "https://localhost:8080/"
        },
        "outputId": "76027d9d-374e-468d-e968-6d4523c3ce76"
      },
      "outputs": [
        {
          "output_type": "stream",
          "name": "stdout",
          "text": [
            "1.52 s ± 0 ns per loop (mean ± std. dev. of 1 run, 1 loop each)\n"
          ]
        }
      ],
      "source": [
        "import numpy as np\n",
        "size = 8192 * 8192\n",
        "array = np.random.random(size).astype(np.float32)\n",
        "%timeit -n 1 -r 1 result = np.sort(array)"
      ]
    },
    {
      "cell_type": "code",
      "source": [
        "import cupy as cp\n",
        "array_gpu = cp.asarray(array)\n",
        "%timeit -n 7 -r 1 result_gpu = cp.sort(array_gpu)"
      ],
      "metadata": {
        "id": "y3HtR22yLfhu",
        "colab": {
          "base_uri": "https://localhost:8080/"
        },
        "outputId": "b8d0db13-0735-4f11-d413-eabf759ca25f"
      },
      "execution_count": 2,
      "outputs": [
        {
          "output_type": "stream",
          "name": "stdout",
          "text": [
            "177 ms ± 0 ns per loop (mean ± std. dev. of 1 run, 7 loops each)\n"
          ]
        }
      ]
    },
    {
      "cell_type": "code",
      "source": [],
      "metadata": {
        "id": "2EVeYmHpLh9R"
      },
      "execution_count": null,
      "outputs": []
    }
  ]
}